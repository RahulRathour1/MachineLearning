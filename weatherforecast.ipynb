{
  "nbformat": 4,
  "nbformat_minor": 0,
  "metadata": {
    "colab": {
      "name": "Untitled3.ipynb",
      "provenance": []
    },
    "kernelspec": {
      "name": "python3",
      "display_name": "Python 3"
    }
  },
  "cells": [
    {
      "cell_type": "code",
      "metadata": {
        "id": "uo7OpTkeoAe7",
        "colab_type": "code",
        "colab": {
          "base_uri": "https://localhost:8080/",
          "height": 454
        },
        "outputId": "2e487d9b-c076-429c-f46d-57ce0c2dac28"
      },
      "source": [
        "import requests\n",
        "from pprint import pprint\n",
        "city=input('Enter Your City:')\n",
        "url='https://samples.openweathermap.org/data/2.5/weather?q={}&appid=439d4b804bc8187953eb36d2a8c26a02'.format(city)\n",
        "out=requests.get(url)\n",
        "data=out.json()\n",
        "print(out)\n",
        "pprint(data)"
      ],
      "execution_count": 6,
      "outputs": [
        {
          "output_type": "stream",
          "text": [
            "Enter Your City:Shahjahanpur\n",
            "<Response [200]>\n",
            "{'base': 'stations',\n",
            " 'clouds': {'all': 90},\n",
            " 'cod': 200,\n",
            " 'coord': {'lat': 51.51, 'lon': -0.13},\n",
            " 'dt': 1485789600,\n",
            " 'id': 2643743,\n",
            " 'main': {'humidity': 81,\n",
            "          'pressure': 1012,\n",
            "          'temp': 280.32,\n",
            "          'temp_max': 281.15,\n",
            "          'temp_min': 279.15},\n",
            " 'name': 'London',\n",
            " 'sys': {'country': 'GB',\n",
            "         'id': 5091,\n",
            "         'message': 0.0103,\n",
            "         'sunrise': 1485762037,\n",
            "         'sunset': 1485794875,\n",
            "         'type': 1},\n",
            " 'visibility': 10000,\n",
            " 'weather': [{'description': 'light intensity drizzle',\n",
            "              'icon': '09d',\n",
            "              'id': 300,\n",
            "              'main': 'Drizzle'}],\n",
            " 'wind': {'deg': 80, 'speed': 4.1}}\n"
          ],
          "name": "stdout"
        }
      ]
    }
  ]
}